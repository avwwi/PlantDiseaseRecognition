{
 "cells": [
  {
   "cell_type": "markdown",
   "id": "ccef3598-f59d-4ee5-9710-492e15ecf4b9",
   "metadata": {},
   "source": [
    "# Plant Disease Recognition"
   ]
  },
  {
   "cell_type": "markdown",
   "id": "bcf1ba5d-a428-4644-a727-39f6e6c1c8a0",
   "metadata": {},
   "source": [
    "#### Importing the libraries"
   ]
  },
  {
   "cell_type": "code",
   "execution_count": 15,
   "id": "b1f81374-2382-4242-ba38-1919499db0ad",
   "metadata": {},
   "outputs": [],
   "source": [
    "import numpy as np\n",
    "import pandas as pd\n",
    "import tensorflow as tf"
   ]
  },
  {
   "cell_type": "markdown",
   "id": "c8ab841f-3285-4f25-a12b-1a52c3bbc8a4",
   "metadata": {},
   "source": [
    "#### Dataset initialization and pre-processing"
   ]
  },
  {
   "attachments": {},
   "cell_type": "markdown",
   "id": "4162d4f4-b5b9-4c8f-8d0e-bd9ee7696209",
   "metadata": {},
   "source": []
  },
  {
   "cell_type": "markdown",
   "id": "fdb5f05a-3e88-4f79-86f6-43bee3a2a845",
   "metadata": {},
   "source": [
    "#### Buliding the CNN"
   ]
  },
  {
   "cell_type": "markdown",
   "id": "52c11786-96e1-4e3f-84c4-c7d7827472a1",
   "metadata": {},
   "source": [
    "#### Training the CNN"
   ]
  },
  {
   "cell_type": "markdown",
   "id": "73840c76-0513-4872-9626-ee87ef521872",
   "metadata": {},
   "source": [
    "#### Evaluation"
   ]
  }
 ],
 "metadata": {
  "kernelspec": {
   "display_name": "Python 3 (ipykernel)",
   "language": "python",
   "name": "python3"
  },
  "language_info": {
   "codemirror_mode": {
    "name": "ipython",
    "version": 3
   },
   "file_extension": ".py",
   "mimetype": "text/x-python",
   "name": "python",
   "nbconvert_exporter": "python",
   "pygments_lexer": "ipython3",
   "version": "3.11.7"
  }
 },
 "nbformat": 4,
 "nbformat_minor": 5
}
